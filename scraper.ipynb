{
 "cells": [
  {
   "cell_type": "code",
   "execution_count": 23,
   "metadata": {},
   "outputs": [
    {
     "name": "stdout",
     "output_type": "stream",
     "text": [
      "Les données ont été écrites dans extracted_data.csv\n"
     ]
    }
   ],
   "source": [
    "from selenium import webdriver\n",
    "from selenium.webdriver.chrome.service import Service\n",
    "from selenium.webdriver.common.by import By\n",
    "from selenium.webdriver.support.ui import WebDriverWait\n",
    "from selenium.webdriver.support import expected_conditions as EC\n",
    "from bs4 import BeautifulSoup\n",
    "import time\n",
    "import csv\n",
    "\n",
    "# Path to the ChromeDriver executable\n",
    "chromedriver_path = 'C:/Users/Amal Maatoug/Downloads/chromedriver-win64/chromedriver-win64/chromedriver.exe' \n",
    "\n",
    "\n",
    "service = Service(chromedriver_path)\n",
    "driver = webdriver.Chrome(service=service)\n",
    "\n",
    "\n",
    "url = 'https://fr.shopping.rakuten.com/nav/Tel-PDA_Telephones-mobiles'\n",
    "\n",
    "# Ouvrir l'URL\n",
    "driver.get(url)\n",
    "\n",
    "        \n",
    "time.sleep(20)\n",
    "\n",
    "# Initialiser les données\n",
    "data = []\n",
    "\n",
    "# Fonction pour extraire les données des produits de la page actuelle\n",
    "def extract_data():\n",
    "    html = driver.page_source\n",
    "    soup = BeautifulSoup(html, 'html.parser')\n",
    "    \n",
    "    selector = '.mh-16.productList_childrenLayout_d73'\n",
    "    containers = soup.select(selector)\n",
    "    \n",
    "    for product in containers:\n",
    "        title_tag = product.find('p', class_='description_styleTitle_KPO lh-title normal mv0 b di')  \n",
    "        neuf_price_tag = product.find('span', class_='f20 dib b')\n",
    "        occasion_price_tag = product.find('span', class_='b dib f20')\n",
    "        description_tag=product.find('ul',class_='description_bulletPoints_qgD')\n",
    "\n",
    "        title = title_tag.text.strip() if title_tag else 'N/A'\n",
    "        neuf_price = neuf_price_tag.text.strip() if neuf_price_tag else 'N/A'\n",
    "        occasion_price = occasion_price_tag.text.strip() if occasion_price_tag else 'N/A'\n",
    "        description=description_tag.text.strip() if description_tag else 'N/A'\n",
    "\n",
    "        data.append({\n",
    "            'title': title,\n",
    "            'neuf_price': neuf_price,\n",
    "            'occasion_price': occasion_price,\n",
    "            'description':description\n",
    "        })\n",
    "\n",
    "\n",
    "# Extraire les données de la première page\n",
    "extract_data()\n",
    "\n",
    "# Fermer le navigateur\n",
    "driver.quit()\n",
    "\n",
    "# Définir le chemin du fichier CSV\n",
    "csv_file_path = 'extracted_data.csv'\n",
    "\n",
    "# Écrire les données dans un fichier CSV\n",
    "with open(csv_file_path, mode='w', newline='', encoding='utf-8') as file:\n",
    "    writer = csv.DictWriter(file, fieldnames=['title', 'neuf_price', 'occasion_price','description'])\n",
    "    writer.writeheader()\n",
    "    writer.writerows(data)\n",
    "\n",
    "print(f\"Les données ont été écrites dans {csv_file_path}\")\n"
   ]
  },
  {
   "cell_type": "code",
   "execution_count": 24,
   "metadata": {},
   "outputs": [
    {
     "name": "stdout",
     "output_type": "stream",
     "text": [
      "Les données ont été écrites dans extracted_data.csv\n"
     ]
    }
   ],
   "source": [
    "\n",
    "# Définir le chemin du fichier CSV\n",
    "csv_file_path = 'extracted_data.csv'\n",
    "\n",
    "# Écrire les données dans un fichier CSV\n",
    "with open(csv_file_path, mode='w', newline='', encoding='utf-8') as file:\n",
    "    writer = csv.DictWriter(file, fieldnames=['title', 'neuf_price', 'occasion_price','description'])\n",
    "    writer.writeheader()\n",
    "    writer.writerows(data)\n",
    "\n",
    "print(f\"Les données ont été écrites dans {csv_file_path}\")"
   ]
  },
  {
   "cell_type": "code",
   "execution_count": null,
   "metadata": {},
   "outputs": [],
   "source": []
  }
 ],
 "metadata": {
  "kernelspec": {
   "display_name": "Python 3",
   "language": "python",
   "name": "python3"
  },
  "language_info": {
   "codemirror_mode": {
    "name": "ipython",
    "version": 3
   },
   "file_extension": ".py",
   "mimetype": "text/x-python",
   "name": "python",
   "nbconvert_exporter": "python",
   "pygments_lexer": "ipython3",
   "version": "3.9.0"
  }
 },
 "nbformat": 4,
 "nbformat_minor": 2
}
